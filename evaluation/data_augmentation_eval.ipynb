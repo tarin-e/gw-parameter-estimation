{
 "cells": [
  {
   "cell_type": "code",
   "execution_count": 432,
   "metadata": {},
   "outputs": [],
   "source": [
    "import argparse\n",
    "import os\n",
    "import random\n",
    "import time\n",
    "import math\n",
    "\n",
    "# deep learning\n",
    "import torch\n",
    "import torch.nn as nn\n",
    "import torch.nn.parallel\n",
    "from torch.utils.data import Dataset, DataLoader\n",
    "from torchsummary import summary\n",
    "import torch.optim as optim\n",
    "\n",
    "# machine learning\n",
    "from sklearn.metrics import confusion_matrix\n",
    "from sklearn.metrics import ConfusionMatrixDisplay\n",
    "from sklearn import metrics\n",
    "\n",
    "# data\n",
    "import numpy as np\n",
    "import pandas as pd\n",
    "from sklearn.model_selection import train_test_split\n",
    "\n",
    "# plotting\n",
    "import matplotlib.pyplot as plt\n",
    "import seaborn as sns\n",
    "\n",
    "# signal processing\n",
    "from scipy import signal\n",
    "from scipy.stats import entropy"
   ]
  },
  {
   "cell_type": "code",
   "execution_count": 433,
   "metadata": {},
   "outputs": [
    {
     "name": "stdout",
     "output_type": "stream",
     "text": [
      "Random Seed:  999\n"
     ]
    }
   ],
   "source": [
    "# Set random seed for reproducibility\n",
    "manualSeed = 999\n",
    "print(\"Random Seed: \", manualSeed)\n",
    "np.random.seed(manualSeed)\n",
    "torch.manual_seed(manualSeed)\n",
    "torch.use_deterministic_algorithms(True) # Needed for reproducible results"
   ]
  },
  {
   "cell_type": "code",
   "execution_count": 434,
   "metadata": {},
   "outputs": [
    {
     "name": "stdout",
     "output_type": "stream",
     "text": [
      "Tarins-MacBook.local\n"
     ]
    }
   ],
   "source": [
    "import socket\n",
    "myHostName = socket.gethostname()\n",
    "print(myHostName)"
   ]
  },
  {
   "cell_type": "code",
   "execution_count": 435,
   "metadata": {},
   "outputs": [],
   "source": [
    "device = torch.device(\"mps\")\n",
    "\n",
    "# number of signals per iteration\n",
    "batch_size = 32"
   ]
  },
  {
   "cell_type": "markdown",
   "metadata": {},
   "source": [
    "### Dataloader"
   ]
  },
  {
   "cell_type": "code",
   "execution_count": 436,
   "metadata": {},
   "outputs": [],
   "source": [
    "class GWDataset(Dataset):\n",
    "    def __init__(self, signals_csv, parameters_csv, parameter):\n",
    "        self.parameters = pd.read_csv(parameters_csv)\n",
    "        self.signals = pd.read_csv(signals_csv).astype('float32')\n",
    "\n",
    "        # remove unusual parameters and corresponding signals\n",
    "        keep_signals_idx = np.array(self.parameters[self.parameters['beta1_IC_b'] > 0].index)\n",
    "        self.parameters = self.parameters.iloc[keep_signals_idx,:]\n",
    "        self.signals = self.signals.iloc[:,keep_signals_idx]\n",
    "\n",
    "        # process beta_ic_b parameter\n",
    "        ranges = [0, 0.06, 0.17, 1]\n",
    "        labels = [0, 1, 2]\n",
    "        num_classes = len(labels)\n",
    "        self.beta = self.parameters['beta1_IC_b']\n",
    "        self.beta = pd.cut(self.beta, bins=ranges, labels=labels).astype('int')\n",
    "        self.beta = self.beta.values\n",
    "        self.beta = np.eye(num_classes)[self.beta]\n",
    "        self.beta = np.reshape(self.beta, (self.beta.shape[0], self.beta.shape[1], 1)).astype('float32')\n",
    "\n",
    "        # bin selected labels according to literature or equal-freq binning where appropriate\n",
    "        if (parameter == 'beta1_IC_b'):  \n",
    "            self.parameters = self.beta\n",
    "        elif (parameter == 'A(km)'):\n",
    "            self.parameters = self.parameters[parameter]\n",
    "            num_classes = 5\n",
    "            replacement = {300: 0, 467: 1, 634: 2, 1268: 3, 10000: 4}\n",
    "            self.parameters = self.parameters.replace(replacement)\n",
    "            self.parameters = self.parameters.values\n",
    "            self.parameters = np.eye(num_classes)[self.parameters]\n",
    "        elif (parameter == 'omega_0(rad|s)'):\n",
    "            self.parameters = self.parameters[parameter]\n",
    "            num_classes = 5\n",
    "            dummy, bin_boundaries = pd.qcut(self.parameters, q= num_classes, retbins=True, duplicates='drop')\n",
    "            self.parameters = self.parameters.values\n",
    "            self.parameters = np.digitize(self.parameters,bins=bin_boundaries[1:num_classes])\n",
    "            y = np.eye(num_classes)[y]\n",
    "        elif (parameter == 'Ye_c_b'):\n",
    "            self.parameters = self.parameters[parameter]\n",
    "            num_classes = 5\n",
    "            dummy, bin_boundaries = pd.qcut(self.parameters, q=num_classes, retbins=True, duplicates='drop')\n",
    "            self.parameters = self.parameters.values\n",
    "            self.parameters = np.digitize(self.parameters,bins=bin_boundaries[1:num_classes])\n",
    "            self.parameters = np.eye(num_classes)[self.parameters]\n",
    "        \n",
    "\n",
    "        self.original_parameters = self.parameters\n",
    "        self.augmented_parameters = np.empty(shape = (0, self.parameters.shape[1])).astype('float32')\n",
    "\n",
    "        self.signals = self.signals.values\n",
    "        self.original_signals = self.signals\n",
    "        self.augmented_signals = np.empty(shape = (256, 0)).astype('float32')\n",
    "\n",
    "        ### signal manipulation section ###        \n",
    "        temp_signals = np.empty(shape = (256, 0)).astype('float32')\n",
    "        for i in range(0, self.signals.shape[1]):\n",
    "            signal = self.signals[:, i]\n",
    "            signal = signal.reshape(1, -1)\n",
    "\n",
    "            cut_signal = signal[:, int(len(signal[0]) - 256):len(signal[0])]\n",
    "\n",
    "            temp_signals = np.insert(temp_signals, temp_signals.shape[1], cut_signal, axis=1)\n",
    "\n",
    "        \n",
    "        self.signals = temp_signals\n",
    "        ### end signal manipulation section ###\n",
    "\n",
    "    ### augmentation methods ###\n",
    "    def jittering_augmentation(self, signal):\n",
    "        noise = np.random.normal(0, 1, signal.shape[1])\n",
    "        jittered_signal = signal + noise\n",
    "        return jittered_signal\n",
    "    \n",
    "    def shift_augmentation(self, signal):\n",
    "        shift = np.random.normal(0, 50, 1)\n",
    "        shifted_signal = np.roll(signal, int(shift))\n",
    "        return shifted_signal\n",
    "\n",
    "    def scale_augmentation(self, signal):\n",
    "        scale_factor = np.random.normal(1, 0.5, 1)\n",
    "        scale_factor = np.maximum(scale_factor, 0)\n",
    "        scaled_signal = scale_factor * signal\n",
    "        return scaled_signal\n",
    "\n",
    "    def mixture_augmentation(self, signal_1, signal_2):\n",
    "        distance_multiplier = np.random.normal(0.5, 0.2, 1)\n",
    "        # clip signal to range [0,1] as this is the multiplier by the normalised difference in signals\n",
    "        distance_multiplier = np.clip(distance_multiplier, 0, 1)\n",
    "        mixture_signal = signal_1 + distance_multiplier * (signal_2 - signal_1)\n",
    "        return mixture_signal\n",
    "\n",
    "    def window_warping_augmentation(self, signal):\n",
    "        # take window size of 10% of the signal with a warping factor of 2 or 0.5 (from literature)\n",
    "        warping_factor =  np.random.choice([0.5, 2])\n",
    "        # warping_factor = 0.5\n",
    "\n",
    "        window_size = math.floor(signal.shape[1] / 10)\n",
    "        scaled_window_size = warping_factor * window_size\n",
    "\n",
    "        # don't warp anything a little bit before the core-bounce - preserves core-bounce position\n",
    "        window_min_idx = 53\n",
    "\n",
    "        # find random reference position for start of window warping\n",
    "        window_start_idx = np.random.randint(window_min_idx, signal.shape[1] - scaled_window_size*2)\n",
    "        window_end_idx = window_start_idx + window_size\n",
    "\n",
    "        # select between warping by factor 1/2 or 2\n",
    "        if (warping_factor == 2):\n",
    "            # extract values before, at and after the window\n",
    "            # clip end of signal to make up for extra size due to window warping\n",
    "            signal_before_window = signal[0][:window_start_idx]\n",
    "            signal_window = signal[0][window_start_idx:window_end_idx]\n",
    "            signal_after_window = signal[0][window_end_idx:int(signal.shape[1]-(window_size))]\n",
    "\n",
    "            # time points\n",
    "            t = np.arange(len(signal_window))\n",
    "            warped_t = np.arange(0, len(signal_window), 0.5)\n",
    "\n",
    "            # interpolation for window warping\n",
    "            signal_window_warped = np.interp(warped_t, t, signal_window)\n",
    "\n",
    "            # combine signals\n",
    "            warped_signal = np.concatenate((signal_before_window, signal_window_warped, signal_after_window), axis=0)\n",
    "        elif (warping_factor == 0.5):\n",
    "            # extract values before, at and after the window\n",
    "            # clip end of signal to make up for extra size due to window warping\n",
    "            signal_before_window = signal[0][:window_start_idx]\n",
    "            signal_window = signal[0][window_start_idx:window_end_idx]\n",
    "            signal_after_window = signal[0][window_end_idx:]\n",
    "            # add values to end of signal to make up for downsampled window\n",
    "            signal_after_window = np.pad(signal_after_window, (0, int(window_size - scaled_window_size)), mode='edge')\n",
    "\n",
    "            signal_window_warped = signal_window[::int(1/warping_factor)]\n",
    "\n",
    "            warped_signal = np.concatenate((signal_before_window, signal_window_warped, signal_after_window), axis=0)\n",
    "        else:\n",
    "            warped_signal = signal\n",
    "        return warped_signal\n",
    "\n",
    "    def augmentation(self, desired_augmented_data_count):\n",
    "        while self.signals.shape[1] < desired_augmented_data_count:\n",
    "            idx_1 = np.random.randint(0, 1684)\n",
    "            signal_1 = self.signals[:, idx_1]\n",
    "            signal_1 = signal_1.reshape(1, -1)\n",
    "\n",
    "            ### mixture augmentation only ###\n",
    "            # find the class of signal_1 (assuming class is a column in self.parameters)\n",
    "            beta_class_of_signal_1 = np.argmax(self.beta[idx_1, :])\n",
    "            # sample only from the same class for signal_2 and make sure it's not the same as signal_1\n",
    "            candidate_indices = [x for x in range(0, 1684) if x != idx_1 and np.argmax(self.beta[x, :]) == beta_class_of_signal_1]\n",
    "            idx_2 = np.random.choice(candidate_indices)\n",
    "            signal_2 = self.signals[:, idx_2]\n",
    "            signal_2 = signal_2.reshape(1, -1)\n",
    "\n",
    "            # call selected augmentation function here\n",
    "            # augmented_signal = self.scale_augmentation(signal_1)\n",
    "            augmented_signal = signal_1\n",
    "            # augmented_signal = self.mixture_augmentation(signal_1, signal_2)\n",
    "\n",
    "            self.augmented_signals = np.insert(self.augmented_signals, self.augmented_signals.shape[1], augmented_signal, axis=1)\n",
    "            self.signals = np.insert(self.signals, self.signals.shape[1], augmented_signal, axis=1)\n",
    "\n",
    "            # just copy parameters for now\n",
    "            augmented_parameter = self.parameters[idx_1, :]\n",
    "\n",
    "            self.augmented_parameters = np.insert(self.augmented_parameters, self.augmented_parameters.shape[0], augmented_parameter, axis=0)\n",
    "            self.parameters = np.insert(self.parameters, self.parameters.shape[0], augmented_parameter, axis=0)\n",
    "\n",
    "        print(\"Signal Dataset Size after Data Augmentation: \", self.signals.shape)\n",
    "        print(\"Parameter Dataset Size after Data Augmentation: \", self.parameters.shape)\n",
    "\n",
    "    ### end augmentation methods ###\n",
    "    # def set_test_samples(self, test_sample_idx):\n",
    "    #     self.signals_test_samples = self.signals[:, test_sample_idx]\n",
    "    #     self.parameters_test_sample = self.parameters[test_sample_idx,:]\n",
    "\n",
    "    ### overloads ###\n",
    "    def __len__(self):\n",
    "        return self.augmented_signals.shape[1]\n",
    "\n",
    "    def __getitem__(self, idx):\n",
    "        signal = self.augmented_signals[:, idx]\n",
    "        signal = signal.reshape(1, -1)\n",
    "\n",
    "        parameter = self.augmented_parameters[idx,:]\n",
    "        parameter = parameter.reshape(1, -1)\n",
    "\n",
    "        return signal, parameter"
   ]
  },
  {
   "cell_type": "code",
   "execution_count": 437,
   "metadata": {},
   "outputs": [
    {
     "name": "stdout",
     "output_type": "stream",
     "text": [
      "Signal Dataset Size after Data Augmentation:  (256, 6000)\n",
      "Parameter Dataset Size after Data Augmentation:  (6000, 5)\n"
     ]
    }
   ],
   "source": [
    "parameter = 'Ye_c_b'\n",
    "dataset = GWDataset(\"../data/richers_1764.csv\", \"../data/richers_1764_parameters.csv\", parameter)\n",
    "dataset.augmentation(6000)"
   ]
  },
  {
   "cell_type": "code",
   "execution_count": 438,
   "metadata": {},
   "outputs": [],
   "source": [
    "ndf = 64\n",
    "nc = 1\n",
    "num_classes = dataset.parameters.shape[1]"
   ]
  },
  {
   "cell_type": "code",
   "execution_count": 439,
   "metadata": {},
   "outputs": [],
   "source": [
    "class Discriminator(nn.Module):\n",
    "        def __init__(self):\n",
    "            super(Discriminator, self).__init__()\n",
    "            self.main = nn.Sequential(\n",
    "                nn.Conv1d(nc, ndf, kernel_size=4, stride=2, padding=1, bias=False),\n",
    "                nn.LeakyReLU(0.2, inplace=True),\n",
    "                nn.Dropout1d(0.2),\n",
    "\n",
    "                nn.Conv1d(ndf, ndf * 2, kernel_size=4, stride=2, padding=1, bias=False),\n",
    "                nn.BatchNorm1d(ndf * 2),\n",
    "                nn.LeakyReLU(0.2, inplace=True),\n",
    "                nn.Dropout1d(0.2),\n",
    "\n",
    "                nn.Conv1d(ndf * 2, ndf * 4, kernel_size=4,\n",
    "                        stride=2, padding=1, bias=False),\n",
    "                nn.BatchNorm1d(ndf * 4),\n",
    "                nn.LeakyReLU(0.2, inplace=True),\n",
    "                nn.Dropout1d(0.2),\n",
    "\n",
    "                nn.Conv1d(ndf * 4, ndf * 8, kernel_size=4,\n",
    "                        stride=2, padding=1, bias=False),\n",
    "                nn.BatchNorm1d(ndf * 8),\n",
    "                nn.LeakyReLU(0.2, inplace=True),\n",
    "                nn.Dropout1d(0.2)\n",
    "            )\n",
    "\n",
    "            self.fc_class = nn.Sequential(\n",
    "                nn.LazyLinear(num_classes),\n",
    "                nn.LogSoftmax(dim=1)\n",
    "            )\n",
    "\n",
    "        def forward(self, x):\n",
    "            x = self.main(x)\n",
    "            x = x.view(x.shape[0], -1)\n",
    "            x = self.fc_class(x)\n",
    "            return x"
   ]
  },
  {
   "cell_type": "markdown",
   "metadata": {},
   "source": [
    "### Beta1_IC_b Evaluation"
   ]
  },
  {
   "cell_type": "code",
   "execution_count": 440,
   "metadata": {},
   "outputs": [
    {
     "name": "stderr",
     "output_type": "stream",
     "text": [
      "/Users/tarineccleston/Documents/software-ds/gw-parameter-estimation/.venv/lib/python3.9/site-packages/torch/nn/modules/lazy.py:180: UserWarning: Lazy modules are a new feature under heavy development so changes to the API or functionality can happen at any moment.\n",
      "  warnings.warn('Lazy modules are a new feature under heavy development '\n"
     ]
    },
    {
     "data": {
      "text/plain": [
       "Discriminator(\n",
       "  (main): Sequential(\n",
       "    (0): Conv1d(1, 64, kernel_size=(4,), stride=(2,), padding=(1,), bias=False)\n",
       "    (1): LeakyReLU(negative_slope=0.2, inplace=True)\n",
       "    (2): Dropout1d(p=0.2, inplace=False)\n",
       "    (3): Conv1d(64, 128, kernel_size=(4,), stride=(2,), padding=(1,), bias=False)\n",
       "    (4): BatchNorm1d(128, eps=1e-05, momentum=0.1, affine=True, track_running_stats=True)\n",
       "    (5): LeakyReLU(negative_slope=0.2, inplace=True)\n",
       "    (6): Dropout1d(p=0.2, inplace=False)\n",
       "    (7): Conv1d(128, 256, kernel_size=(4,), stride=(2,), padding=(1,), bias=False)\n",
       "    (8): BatchNorm1d(256, eps=1e-05, momentum=0.1, affine=True, track_running_stats=True)\n",
       "    (9): LeakyReLU(negative_slope=0.2, inplace=True)\n",
       "    (10): Dropout1d(p=0.2, inplace=False)\n",
       "    (11): Conv1d(256, 512, kernel_size=(4,), stride=(2,), padding=(1,), bias=False)\n",
       "    (12): BatchNorm1d(512, eps=1e-05, momentum=0.1, affine=True, track_running_stats=True)\n",
       "    (13): LeakyReLU(negative_slope=0.2, inplace=True)\n",
       "    (14): Dropout1d(p=0.2, inplace=False)\n",
       "  )\n",
       "  (fc_class): Sequential(\n",
       "    (0): Linear(in_features=8192, out_features=5, bias=True)\n",
       "    (1): LogSoftmax(dim=1)\n",
       "  )\n",
       ")"
      ]
     },
     "execution_count": 440,
     "metadata": {},
     "output_type": "execute_result"
    }
   ],
   "source": [
    "net = torch.load(\"../models/Ye_c_b_signals.pt\").to(device)\n",
    "net.eval()"
   ]
  },
  {
   "cell_type": "code",
   "execution_count": 441,
   "metadata": {},
   "outputs": [
    {
     "name": "stdout",
     "output_type": "stream",
     "text": [
      "Cumulative Proportion of Correct Classifications: 0.19462465245597776\n"
     ]
    }
   ],
   "source": [
    "test_loader = DataLoader(dataset, batch_size=batch_size, shuffle=False)\n",
    "\n",
    "cum_true_indices = torch.Tensor().to(device, dtype=torch.float32)\n",
    "cum_predicted_indices = torch.Tensor().to(device, dtype=torch.float32)\n",
    "\n",
    "correct_classifications = 0\n",
    "total_samples = 0\n",
    "\n",
    "with torch.no_grad():\n",
    "    for i, data in enumerate(test_loader, 0):\n",
    "        x, y = data\n",
    "        x = x.to(device, dtype=torch.float32)\n",
    "        y = y.to(device, dtype=torch.long)\n",
    "        y = y.squeeze(1)\n",
    "\n",
    "        y_hat = net(x)\n",
    "\n",
    "        true_indices = torch.argmax(y, dim=1)\n",
    "        predicted_indices = torch.argmax(y_hat, dim=1)\n",
    "\n",
    "        correct_classifications += torch.sum(true_indices == predicted_indices).item()\n",
    "        total_samples += true_indices.size(0)\n",
    "\n",
    "        cum_true_indices = torch.cat([cum_true_indices, true_indices], dim=0)\n",
    "        cum_predicted_indices = torch.cat([cum_predicted_indices, predicted_indices], dim=0)\n",
    "\n",
    "cumulative_proportion_correct = correct_classifications / total_samples\n",
    "print(\"Cumulative Proportion of Correct Classifications:\", cumulative_proportion_correct)"
   ]
  },
  {
   "cell_type": "code",
   "execution_count": 442,
   "metadata": {},
   "outputs": [
    {
     "data": {
      "image/png": "[encoded data removed]",
      "text/plain": [
       "<Figure size 600x600 with 1 Axes>"
      ]
     },
     "metadata": {},
     "output_type": "display_data"
    }
   ],
   "source": [
    "if parameter == 'beta1_IC_b':\n",
    "    display_labels = [\"Slow Rotation\", \"Rapid Rotation\", \"Extreme Rotation\"]\n",
    "elif parameter == 'A(km)':\n",
    "    display_labels = [300, 467, 634, 1268, 10000]\n",
    "elif parameter == 'omega_0(rad|s)':\n",
    "    display_labels = ['0.5-2.0', '2.0-4.0', '4.0-6.0', '6.0-9.0', '9.0-15.5']\n",
    "elif parameter == 'Ye_c_b':\n",
    "    display_labels = ['0.247-0.267', '0.267-0.288', '0.288-0.309', '0.309-0.330', '0.330-0.351']\n",
    "\n",
    "confusion_matrix = metrics.confusion_matrix(cum_true_indices.cpu(), cum_predicted_indices.cpu())\n",
    "\n",
    "plt.figure(figsize=(6, 6))\n",
    "sns.heatmap(confusion_matrix.T, annot=True, fmt='d', cmap='Blues', xticklabels=display_labels, yticklabels=display_labels, cbar=False)\n",
    "\n",
    "plt.title('Confusion Matrix for Ye_c_b')\n",
    "plt.ylabel('True Ye_c_b')\n",
    "plt.xlabel('Predicted Ye_c_b')\n",
    "# plt.savefig('../plots/Ye_c_b_original_confusion_matrix.png')\n",
    "plt.show()"
   ]
  }
 ],
 "metadata": {
  "kernelspec": {
   "display_name": ".venv",
   "language": "python",
   "name": "python3"
  },
  "language_info": {
   "codemirror_mode": {
    "name": "ipython",
    "version": 3
   },
   "file_extension": ".py",
   "mimetype": "text/x-python",
   "name": "python",
   "nbconvert_exporter": "python",
   "pygments_lexer": "ipython3",
   "version": "3.9.6"
  }
 },
 "nbformat": 4,
 "nbformat_minor": 2
}
